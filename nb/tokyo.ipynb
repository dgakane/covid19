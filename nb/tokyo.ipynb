{
 "cells": [
  {
   "cell_type": "markdown",
   "metadata": {},
   "source": [
    "# 東京の感染者数\n",
    "\n",
    "データは  \n",
    "https://stopcovid19.metro.tokyo.lg.jp/data/130001_tokyo_covid19_patients.csv  \n",
    "を使わせていただく。  \n",
    "まず、データフレームに格納。その際に「公表_年月日」のカラムを日付として解釈しておく。"
   ]
  },
  {
   "cell_type": "code",
   "execution_count": 179,
   "metadata": {},
   "outputs": [
    {
     "data": {
      "text/html": [
       "<div>\n",
       "<style scoped>\n",
       "    .dataframe tbody tr th:only-of-type {\n",
       "        vertical-align: middle;\n",
       "    }\n",
       "\n",
       "    .dataframe tbody tr th {\n",
       "        vertical-align: top;\n",
       "    }\n",
       "\n",
       "    .dataframe thead th {\n",
       "        text-align: right;\n",
       "    }\n",
       "</style>\n",
       "<table border=\"1\" class=\"dataframe\">\n",
       "  <thead>\n",
       "    <tr style=\"text-align: right;\">\n",
       "      <th></th>\n",
       "      <th>No</th>\n",
       "      <th>全国地方公共団体コード</th>\n",
       "      <th>都道府県名</th>\n",
       "      <th>市区町村名</th>\n",
       "      <th>公表_年月日</th>\n",
       "      <th>曜日</th>\n",
       "      <th>発症_年月日</th>\n",
       "      <th>患者_居住地</th>\n",
       "      <th>患者_年代</th>\n",
       "      <th>患者_性別</th>\n",
       "      <th>患者_属性</th>\n",
       "      <th>患者_状態</th>\n",
       "      <th>患者_症状</th>\n",
       "      <th>患者_渡航歴の有無フラグ</th>\n",
       "      <th>備考</th>\n",
       "      <th>退院済フラグ</th>\n",
       "    </tr>\n",
       "  </thead>\n",
       "  <tbody>\n",
       "    <tr>\n",
       "      <th>0</th>\n",
       "      <td>1</td>\n",
       "      <td>130001</td>\n",
       "      <td>東京都</td>\n",
       "      <td>NaN</td>\n",
       "      <td>2020-01-24</td>\n",
       "      <td>金</td>\n",
       "      <td>NaN</td>\n",
       "      <td>湖北省武漢市</td>\n",
       "      <td>40代</td>\n",
       "      <td>男性</td>\n",
       "      <td>NaN</td>\n",
       "      <td>NaN</td>\n",
       "      <td>NaN</td>\n",
       "      <td>NaN</td>\n",
       "      <td>NaN</td>\n",
       "      <td>1.0</td>\n",
       "    </tr>\n",
       "    <tr>\n",
       "      <th>1</th>\n",
       "      <td>2</td>\n",
       "      <td>130001</td>\n",
       "      <td>東京都</td>\n",
       "      <td>NaN</td>\n",
       "      <td>2020-01-25</td>\n",
       "      <td>土</td>\n",
       "      <td>NaN</td>\n",
       "      <td>湖北省武漢市</td>\n",
       "      <td>30代</td>\n",
       "      <td>女性</td>\n",
       "      <td>NaN</td>\n",
       "      <td>NaN</td>\n",
       "      <td>NaN</td>\n",
       "      <td>NaN</td>\n",
       "      <td>NaN</td>\n",
       "      <td>1.0</td>\n",
       "    </tr>\n",
       "    <tr>\n",
       "      <th>2</th>\n",
       "      <td>3</td>\n",
       "      <td>130001</td>\n",
       "      <td>東京都</td>\n",
       "      <td>NaN</td>\n",
       "      <td>2020-01-30</td>\n",
       "      <td>木</td>\n",
       "      <td>NaN</td>\n",
       "      <td>湖南省長沙市</td>\n",
       "      <td>30代</td>\n",
       "      <td>女性</td>\n",
       "      <td>NaN</td>\n",
       "      <td>NaN</td>\n",
       "      <td>NaN</td>\n",
       "      <td>NaN</td>\n",
       "      <td>NaN</td>\n",
       "      <td>1.0</td>\n",
       "    </tr>\n",
       "    <tr>\n",
       "      <th>3</th>\n",
       "      <td>4</td>\n",
       "      <td>130001</td>\n",
       "      <td>東京都</td>\n",
       "      <td>NaN</td>\n",
       "      <td>2020-02-13</td>\n",
       "      <td>木</td>\n",
       "      <td>NaN</td>\n",
       "      <td>都内</td>\n",
       "      <td>70代</td>\n",
       "      <td>男性</td>\n",
       "      <td>NaN</td>\n",
       "      <td>NaN</td>\n",
       "      <td>NaN</td>\n",
       "      <td>NaN</td>\n",
       "      <td>NaN</td>\n",
       "      <td>1.0</td>\n",
       "    </tr>\n",
       "    <tr>\n",
       "      <th>4</th>\n",
       "      <td>5</td>\n",
       "      <td>130001</td>\n",
       "      <td>東京都</td>\n",
       "      <td>NaN</td>\n",
       "      <td>2020-02-14</td>\n",
       "      <td>金</td>\n",
       "      <td>NaN</td>\n",
       "      <td>都内</td>\n",
       "      <td>50代</td>\n",
       "      <td>女性</td>\n",
       "      <td>NaN</td>\n",
       "      <td>NaN</td>\n",
       "      <td>NaN</td>\n",
       "      <td>NaN</td>\n",
       "      <td>NaN</td>\n",
       "      <td>1.0</td>\n",
       "    </tr>\n",
       "  </tbody>\n",
       "</table>\n",
       "</div>"
      ],
      "text/plain": [
       "   No  全国地方公共団体コード 都道府県名  市区町村名     公表_年月日 曜日  発症_年月日  患者_居住地 患者_年代 患者_性別  \\\n",
       "0   1       130001   東京都    NaN 2020-01-24  金     NaN  湖北省武漢市   40代    男性   \n",
       "1   2       130001   東京都    NaN 2020-01-25  土     NaN  湖北省武漢市   30代    女性   \n",
       "2   3       130001   東京都    NaN 2020-01-30  木     NaN  湖南省長沙市   30代    女性   \n",
       "3   4       130001   東京都    NaN 2020-02-13  木     NaN      都内   70代    男性   \n",
       "4   5       130001   東京都    NaN 2020-02-14  金     NaN      都内   50代    女性   \n",
       "\n",
       "   患者_属性  患者_状態  患者_症状  患者_渡航歴の有無フラグ  備考  退院済フラグ  \n",
       "0    NaN    NaN    NaN           NaN NaN     1.0  \n",
       "1    NaN    NaN    NaN           NaN NaN     1.0  \n",
       "2    NaN    NaN    NaN           NaN NaN     1.0  \n",
       "3    NaN    NaN    NaN           NaN NaN     1.0  \n",
       "4    NaN    NaN    NaN           NaN NaN     1.0  "
      ]
     },
     "execution_count": 179,
     "metadata": {},
     "output_type": "execute_result"
    }
   ],
   "source": [
    "%matplotlib inline\n",
    "import numpy as np\n",
    "import matplotlib.pyplot as plt\n",
    "import pandas as pd\n",
    "\n",
    "df = pd.read_csv('https://stopcovid19.metro.tokyo.lg.jp/data/130001_tokyo_covid19_patients.csv', \n",
    "                 parse_dates=['公表_年月日'])\n",
    "\n",
    "df.head()"
   ]
  },
  {
   "cell_type": "markdown",
   "metadata": {},
   "source": [
    "## 日付ごとの集計\n",
    "データフレームの日付の出現を数えて、日毎の感染者数とする。同時に累積の感染者数も計算しておく。"
   ]
  },
  {
   "cell_type": "code",
   "execution_count": 180,
   "metadata": {},
   "outputs": [],
   "source": [
    "date = []\n",
    "daily_case = []\n",
    "total_case = []\n",
    "current_accum_case = 0\n",
    "for k, v in df[\"公表_年月日\"].value_counts().sort_index().items():\n",
    "    date.append(k)\n",
    "    daily_case.append(v)\n",
    "    current_accum_case += v\n",
    "    total_case.append(current_accum_case)"
   ]
  },
  {
   "cell_type": "markdown",
   "metadata": {},
   "source": [
    "日毎の感染者数と累積の感染者数をカラムにもつデータフレームを作成。"
   ]
  },
  {
   "cell_type": "code",
   "execution_count": 181,
   "metadata": {},
   "outputs": [
    {
     "data": {
      "text/html": [
       "<div>\n",
       "<style scoped>\n",
       "    .dataframe tbody tr th:only-of-type {\n",
       "        vertical-align: middle;\n",
       "    }\n",
       "\n",
       "    .dataframe tbody tr th {\n",
       "        vertical-align: top;\n",
       "    }\n",
       "\n",
       "    .dataframe thead th {\n",
       "        text-align: right;\n",
       "    }\n",
       "</style>\n",
       "<table border=\"1\" class=\"dataframe\">\n",
       "  <thead>\n",
       "    <tr style=\"text-align: right;\">\n",
       "      <th></th>\n",
       "      <th>daily_case</th>\n",
       "      <th>total_case</th>\n",
       "    </tr>\n",
       "  </thead>\n",
       "  <tbody>\n",
       "    <tr>\n",
       "      <th>2020-01-24</th>\n",
       "      <td>1</td>\n",
       "      <td>1</td>\n",
       "    </tr>\n",
       "    <tr>\n",
       "      <th>2020-01-25</th>\n",
       "      <td>1</td>\n",
       "      <td>2</td>\n",
       "    </tr>\n",
       "    <tr>\n",
       "      <th>2020-01-30</th>\n",
       "      <td>1</td>\n",
       "      <td>3</td>\n",
       "    </tr>\n",
       "    <tr>\n",
       "      <th>2020-02-13</th>\n",
       "      <td>1</td>\n",
       "      <td>4</td>\n",
       "    </tr>\n",
       "    <tr>\n",
       "      <th>2020-02-14</th>\n",
       "      <td>2</td>\n",
       "      <td>6</td>\n",
       "    </tr>\n",
       "  </tbody>\n",
       "</table>\n",
       "</div>"
      ],
      "text/plain": [
       "            daily_case  total_case\n",
       "2020-01-24           1           1\n",
       "2020-01-25           1           2\n",
       "2020-01-30           1           3\n",
       "2020-02-13           1           4\n",
       "2020-02-14           2           6"
      ]
     },
     "execution_count": 181,
     "metadata": {},
     "output_type": "execute_result"
    }
   ],
   "source": [
    "df_daily = pd.DataFrame(\n",
    "    {\"daily_case\": daily_case,\n",
    "     \"total_case\": total_case},\n",
    "    index = date\n",
    ")\n",
    "df_daily.head()"
   ]
  },
  {
   "cell_type": "markdown",
   "metadata": {},
   "source": [
    "感染者が発見されていない日のデータが存在しないので、そのような日の行を含むデータフレームにしておく。"
   ]
  },
  {
   "cell_type": "code",
   "execution_count": 182,
   "metadata": {},
   "outputs": [
    {
     "data": {
      "text/html": [
       "<div>\n",
       "<style scoped>\n",
       "    .dataframe tbody tr th:only-of-type {\n",
       "        vertical-align: middle;\n",
       "    }\n",
       "\n",
       "    .dataframe tbody tr th {\n",
       "        vertical-align: top;\n",
       "    }\n",
       "\n",
       "    .dataframe thead th {\n",
       "        text-align: right;\n",
       "    }\n",
       "</style>\n",
       "<table border=\"1\" class=\"dataframe\">\n",
       "  <thead>\n",
       "    <tr style=\"text-align: right;\">\n",
       "      <th></th>\n",
       "      <th>daily_case</th>\n",
       "      <th>total_case</th>\n",
       "    </tr>\n",
       "  </thead>\n",
       "  <tbody>\n",
       "    <tr>\n",
       "      <th>2020-01-24</th>\n",
       "      <td>1.0</td>\n",
       "      <td>1.0</td>\n",
       "    </tr>\n",
       "    <tr>\n",
       "      <th>2020-01-25</th>\n",
       "      <td>1.0</td>\n",
       "      <td>2.0</td>\n",
       "    </tr>\n",
       "    <tr>\n",
       "      <th>2020-01-26</th>\n",
       "      <td>NaN</td>\n",
       "      <td>NaN</td>\n",
       "    </tr>\n",
       "    <tr>\n",
       "      <th>2020-01-27</th>\n",
       "      <td>NaN</td>\n",
       "      <td>NaN</td>\n",
       "    </tr>\n",
       "    <tr>\n",
       "      <th>2020-01-28</th>\n",
       "      <td>NaN</td>\n",
       "      <td>NaN</td>\n",
       "    </tr>\n",
       "  </tbody>\n",
       "</table>\n",
       "</div>"
      ],
      "text/plain": [
       "            daily_case  total_case\n",
       "2020-01-24         1.0         1.0\n",
       "2020-01-25         1.0         2.0\n",
       "2020-01-26         NaN         NaN\n",
       "2020-01-27         NaN         NaN\n",
       "2020-01-28         NaN         NaN"
      ]
     },
     "execution_count": 182,
     "metadata": {},
     "output_type": "execute_result"
    }
   ],
   "source": [
    "df_daily =df_daily.resample(\"1D\").asfreq()\n",
    "df_daily.head()"
   ]
  },
  {
   "cell_type": "markdown",
   "metadata": {},
   "source": [
    "追加された行のデータが存在しないので、NaNとなっている。新規感染者のNaNは0に、累積のNaNは一つ上の行と同じとしておく。"
   ]
  },
  {
   "cell_type": "code",
   "execution_count": 183,
   "metadata": {},
   "outputs": [
    {
     "data": {
      "text/html": [
       "<div>\n",
       "<style scoped>\n",
       "    .dataframe tbody tr th:only-of-type {\n",
       "        vertical-align: middle;\n",
       "    }\n",
       "\n",
       "    .dataframe tbody tr th {\n",
       "        vertical-align: top;\n",
       "    }\n",
       "\n",
       "    .dataframe thead th {\n",
       "        text-align: right;\n",
       "    }\n",
       "</style>\n",
       "<table border=\"1\" class=\"dataframe\">\n",
       "  <thead>\n",
       "    <tr style=\"text-align: right;\">\n",
       "      <th></th>\n",
       "      <th>daily_case</th>\n",
       "      <th>total_case</th>\n",
       "    </tr>\n",
       "  </thead>\n",
       "  <tbody>\n",
       "    <tr>\n",
       "      <th>2020-01-24</th>\n",
       "      <td>1.0</td>\n",
       "      <td>1.0</td>\n",
       "    </tr>\n",
       "    <tr>\n",
       "      <th>2020-01-25</th>\n",
       "      <td>1.0</td>\n",
       "      <td>2.0</td>\n",
       "    </tr>\n",
       "    <tr>\n",
       "      <th>2020-01-26</th>\n",
       "      <td>0.0</td>\n",
       "      <td>2.0</td>\n",
       "    </tr>\n",
       "    <tr>\n",
       "      <th>2020-01-27</th>\n",
       "      <td>0.0</td>\n",
       "      <td>2.0</td>\n",
       "    </tr>\n",
       "    <tr>\n",
       "      <th>2020-01-28</th>\n",
       "      <td>0.0</td>\n",
       "      <td>2.0</td>\n",
       "    </tr>\n",
       "  </tbody>\n",
       "</table>\n",
       "</div>"
      ],
      "text/plain": [
       "            daily_case  total_case\n",
       "2020-01-24         1.0         1.0\n",
       "2020-01-25         1.0         2.0\n",
       "2020-01-26         0.0         2.0\n",
       "2020-01-27         0.0         2.0\n",
       "2020-01-28         0.0         2.0"
      ]
     },
     "execution_count": 183,
     "metadata": {},
     "output_type": "execute_result"
    }
   ],
   "source": [
    "df_daily[\"daily_case\"].fillna(0, inplace=True)\n",
    "df_daily[\"total_case\"].ffill(inplace=True)\n",
    "df_daily.head()"
   ]
  },
  {
   "cell_type": "code",
   "execution_count": 184,
   "metadata": {},
   "outputs": [
    {
     "data": {
      "text/plain": [
       "金    1227\n",
       "土    1085\n",
       "木    1016\n",
       "日     885\n",
       "火     854\n",
       "水     817\n",
       "月     639\n",
       "Name: 曜日, dtype: int64"
      ]
     },
     "execution_count": 184,
     "metadata": {},
     "output_type": "execute_result"
    }
   ],
   "source": [
    "df[\"曜日\"].value_counts()"
   ]
  },
  {
   "cell_type": "markdown",
   "metadata": {},
   "source": [
    "報告数は月火水は少なくなる傾向があるようなので、7日間の移動平均を格納しておく。\n",
    "\n"
   ]
  },
  {
   "cell_type": "code",
   "execution_count": 185,
   "metadata": {},
   "outputs": [
    {
     "data": {
      "text/html": [
       "<div>\n",
       "<style scoped>\n",
       "    .dataframe tbody tr th:only-of-type {\n",
       "        vertical-align: middle;\n",
       "    }\n",
       "\n",
       "    .dataframe tbody tr th {\n",
       "        vertical-align: top;\n",
       "    }\n",
       "\n",
       "    .dataframe thead th {\n",
       "        text-align: right;\n",
       "    }\n",
       "</style>\n",
       "<table border=\"1\" class=\"dataframe\">\n",
       "  <thead>\n",
       "    <tr style=\"text-align: right;\">\n",
       "      <th></th>\n",
       "      <th>daily_case</th>\n",
       "      <th>total_case</th>\n",
       "      <th>7day_MA</th>\n",
       "    </tr>\n",
       "  </thead>\n",
       "  <tbody>\n",
       "    <tr>\n",
       "      <th>2020-06-29</th>\n",
       "      <td>58.0</td>\n",
       "      <td>6171.0</td>\n",
       "      <td>51.857143</td>\n",
       "    </tr>\n",
       "    <tr>\n",
       "      <th>2020-06-30</th>\n",
       "      <td>54.0</td>\n",
       "      <td>6225.0</td>\n",
       "      <td>55.142857</td>\n",
       "    </tr>\n",
       "    <tr>\n",
       "      <th>2020-07-01</th>\n",
       "      <td>67.0</td>\n",
       "      <td>6292.0</td>\n",
       "      <td>56.857143</td>\n",
       "    </tr>\n",
       "    <tr>\n",
       "      <th>2020-07-02</th>\n",
       "      <td>107.0</td>\n",
       "      <td>6399.0</td>\n",
       "      <td>65.285714</td>\n",
       "    </tr>\n",
       "    <tr>\n",
       "      <th>2020-07-03</th>\n",
       "      <td>124.0</td>\n",
       "      <td>6523.0</td>\n",
       "      <td>75.285714</td>\n",
       "    </tr>\n",
       "  </tbody>\n",
       "</table>\n",
       "</div>"
      ],
      "text/plain": [
       "            daily_case  total_case    7day_MA\n",
       "2020-06-29        58.0      6171.0  51.857143\n",
       "2020-06-30        54.0      6225.0  55.142857\n",
       "2020-07-01        67.0      6292.0  56.857143\n",
       "2020-07-02       107.0      6399.0  65.285714\n",
       "2020-07-03       124.0      6523.0  75.285714"
      ]
     },
     "execution_count": 185,
     "metadata": {},
     "output_type": "execute_result"
    }
   ],
   "source": [
    "df_daily[\"7day_MA\"] = df_daily.rolling(7).mean()[\"daily_case\"]\n",
    "df_daily.tail()"
   ]
  },
  {
   "cell_type": "markdown",
   "metadata": {},
   "source": [
    "## 日毎の感染者数のプロット"
   ]
  },
  {
   "cell_type": "code",
   "execution_count": 186,
   "metadata": {
    "scrolled": true
   },
   "outputs": [
    {
     "data": {
      "image/png": "[encoded data removed]",
      "text/plain": [
       "<Figure size 1152x432 with 1 Axes>"
      ]
     },
     "metadata": {
      "needs_background": "light"
     },
     "output_type": "display_data"
    }
   ],
   "source": [
    "fig = plt.figure(figsize=(16.0, 6.0))\n",
    "ax = fig.add_subplot(111)\n",
    "ax.bar(df_daily.index, df_daily[\"daily_case\"], label=\"Daily cases\")\n",
    "ax.plot(df_daily.index, df_daily[\"7day_MA\"], color=\"red\", label=\"7 day MA\")\n",
    "ax.legend()\n",
    "ax.grid()\n",
    "\n",
    "plt.show()"
   ]
  },
  {
   "cell_type": "markdown",
   "metadata": {},
   "source": [
    "## 日毎の感染者数のプロット（対数）"
   ]
  },
  {
   "cell_type": "code",
   "execution_count": 187,
   "metadata": {},
   "outputs": [
    {
     "data": {
      "image/png": "[encoded data removed]",
      "text/plain": [
       "<Figure size 1152x432 with 1 Axes>"
      ]
     },
     "metadata": {
      "needs_background": "light"
     },
     "output_type": "display_data"
    }
   ],
   "source": [
    "fig = plt.figure(figsize=(16.0, 6.0))\n",
    "ax = fig.add_subplot(111)\n",
    "ax.plot(df_daily.index, df_daily[\"daily_case\"], label=\"Daily cases\", marker='o')\n",
    "ax.set_yscale('log')\n",
    "ax.legend()\n",
    "ax.grid()\n",
    "\n",
    "plt.show()"
   ]
  },
  {
   "cell_type": "markdown",
   "metadata": {},
   "source": [
    "## 2020年5月25日以降の報告件数（対数）\n"
   ]
  },
  {
   "cell_type": "code",
   "execution_count": 188,
   "metadata": {},
   "outputs": [
    {
     "name": "stdout",
     "output_type": "stream",
     "text": [
      "                            OLS Regression Results                            \n",
      "==============================================================================\n",
      "Dep. Variable:             daily_case   R-squared:                       0.745\n",
      "Model:                            OLS   Adj. R-squared:                  0.738\n",
      "Method:                 Least Squares   F-statistic:                     110.8\n",
      "Date:                Sat, 04 Jul 2020   Prob (F-statistic):           8.04e-13\n",
      "Time:                        00:44:33   Log-Likelihood:                -15.727\n",
      "No. Observations:                  40   AIC:                             35.45\n",
      "Df Residuals:                      38   BIC:                             38.83\n",
      "Df Model:                           1                                         \n",
      "Covariance Type:            nonrobust                                         \n",
      "==============================================================================\n",
      "                 coef    std err          t      P>|t|      [0.025      0.975]\n",
      "------------------------------------------------------------------------------\n",
      "const          2.2611      0.114     19.804      0.000       2.030       2.492\n",
      "x1             0.0530      0.005     10.527      0.000       0.043       0.063\n",
      "==============================================================================\n",
      "Omnibus:                        1.246   Durbin-Watson:                   1.641\n",
      "Prob(Omnibus):                  0.536   Jarque-Bera (JB):                0.450\n",
      "Skew:                          -0.133   Prob(JB):                        0.799\n",
      "Kurtosis:                       3.446   Cond. No.                         44.5\n",
      "==============================================================================\n",
      "\n",
      "Warnings:\n",
      "[1] Standard Errors assume that the covariance matrix of the errors is correctly specified.\n"
     ]
    },
    {
     "data": {
      "image/png": "[encoded data removed]",
      "text/plain": [
       "<Figure size 576x432 with 1 Axes>"
      ]
     },
     "metadata": {
      "needs_background": "light"
     },
     "output_type": "display_data"
    }
   ],
   "source": [
    "import statsmodels.api as sm\n",
    "\n",
    "after_lifting = df_daily[\"2020-05-25\":]\n",
    "\n",
    "y = np.log(after_lifting[\"daily_case\"])\n",
    "x = range(len(y))\n",
    "x = sm.add_constant(x)\n",
    "\n",
    "model = sm.OLS(y,x)\n",
    "result = model.fit()\n",
    "print(result.summary())\n",
    "fig = plt.figure(figsize=(8.0, 6.0))\n",
    "ax = fig.add_subplot(111)\n",
    "ax.plot(y, label=\"Daily Cases (log)\")\n",
    "result.fittedvalues.plot(label=\"OLS Regression\")\n",
    "\n",
    "ax.legend()\n",
    "ax.grid()\n",
    "\n",
    "plt.show()"
   ]
  },
  {
   "cell_type": "markdown",
   "metadata": {},
   "source": [
    "## 累積の感染者数のプロット"
   ]
  },
  {
   "cell_type": "code",
   "execution_count": 189,
   "metadata": {},
   "outputs": [
    {
     "data": {
      "image/png": "[encoded data removed]",
      "text/plain": [
       "<Figure size 1152x432 with 1 Axes>"
      ]
     },
     "metadata": {
      "needs_background": "light"
     },
     "output_type": "display_data"
    }
   ],
   "source": [
    "fig = plt.figure(figsize=(16.0, 6.0))\n",
    "ax = fig.add_subplot(111)\n",
    "plt.plot(df_daily.index, df_daily[\"total_case\"],marker='o')\n",
    "ax.grid()\n",
    "\n",
    "plt.show()"
   ]
  },
  {
   "cell_type": "markdown",
   "metadata": {},
   "source": [
    "## 累積の感染者数のプロット（対数軸）"
   ]
  },
  {
   "cell_type": "code",
   "execution_count": 190,
   "metadata": {},
   "outputs": [
    {
     "data": {
      "image/png": "[encoded data removed]",
      "text/plain": [
       "<Figure size 1152x432 with 1 Axes>"
      ]
     },
     "metadata": {
      "needs_background": "light"
     },
     "output_type": "display_data"
    }
   ],
   "source": [
    "fig = plt.figure(figsize=(16.0, 6.0))\n",
    "ax = fig.add_subplot(111)\n",
    "ax.set_yscale('log')\n",
    "plt.plot(df_daily.index, df_daily[\"total_case\"],marker='o')\n",
    "ax.grid()\n",
    "\n",
    "plt.show()"
   ]
  },
  {
   "cell_type": "markdown",
   "metadata": {},
   "source": [
    "## 日毎の新規報告数（年代別積み上げ棒グラフ）"
   ]
  },
  {
   "cell_type": "code",
   "execution_count": 191,
   "metadata": {},
   "outputs": [
    {
     "data": {
      "image/png": "[encoded data removed]",
      "text/plain": [
       "<Figure size 1152x432 with 1 Axes>"
      ]
     },
     "metadata": {
      "needs_background": "light"
     },
     "output_type": "display_data"
    }
   ],
   "source": [
    "\n",
    "by_date_age = df.groupby([\"公表_年月日\",\"患者_年代\"])\n",
    "agg_count = by_date_age.size().unstack().fillna(0)\n",
    "\n",
    "fig = plt.figure(figsize=(16.0, 6.0))\n",
    "ax = fig.add_subplot(111)\n",
    "\n",
    "bottom = 0\n",
    "p00 = plt.bar(agg_count.index,agg_count[\"10歳未満\"], bottom=bottom)\n",
    "bottom += agg_count[\"10歳未満\"]\n",
    "p01 = plt.bar(agg_count.index,agg_count[\"10代\"], bottom=bottom)\n",
    "bottom += agg_count[\"10代\"]\n",
    "p02 = plt.bar(agg_count.index,agg_count[\"20代\"], bottom=bottom)\n",
    "bottom += agg_count[\"20代\"]\n",
    "p03 = plt.bar(agg_count.index,agg_count[\"30代\"], bottom=bottom)\n",
    "bottom += agg_count[\"30代\"]\n",
    "p04 = plt.bar(agg_count.index,agg_count[\"40代\"], bottom=bottom)\n",
    "bottom += agg_count[\"40代\"]\n",
    "p05 = plt.bar(agg_count.index,agg_count[\"50代\"], bottom=bottom)\n",
    "bottom += agg_count[\"50代\"]\n",
    "p06 = plt.bar(agg_count.index,agg_count[\"60代\"], bottom=bottom)\n",
    "bottom += agg_count[\"60代\"]\n",
    "p07 = plt.bar(agg_count.index,agg_count[\"70代\"], bottom=bottom)\n",
    "bottom += agg_count[\"70代\"]\n",
    "p08 = plt.bar(agg_count.index,agg_count[\"80代\"], bottom=bottom)\n",
    "bottom += agg_count[\"80代\"]\n",
    "p09 = plt.bar(agg_count.index,agg_count[\"90代\"], bottom=bottom)\n",
    "bottom += agg_count[\"90代\"]\n",
    "p10 = plt.bar(agg_count.index,agg_count[\"100歳以上\"], bottom=bottom, color=\"indigo\")\n",
    "bottom += agg_count[\"100歳以上\"]\n",
    "p_unknown = plt.bar(agg_count.index,agg_count[\"不明\"], bottom=bottom, color=\"gray\")\n",
    "bottom += agg_count[\"不明\"]\n",
    "p_dash = plt.bar(agg_count.index,agg_count[\"'-\"], bottom=bottom, color=\"black\")\n",
    "\n",
    "\n",
    "plt.legend(\n",
    "    (p00[0], p01[0], p02[0], p03[0],p04[0], p05[0], p06[0], p07[0], p08[0], p09[0], p10[0], p_unknown[0], p_dash[0]), \n",
    "    ('< 10', '10s', '20s', '30s', '40s', '50s', '60s', '70s', '80s', '90s', '> 100', 'unknown', \"'-\"))\n",
    "\n",
    "ax.grid()\n",
    "plt.show()\n"
   ]
  },
  {
   "cell_type": "code",
   "execution_count": 192,
   "metadata": {},
   "outputs": [
    {
     "data": {
      "text/html": [
       "<div>\n",
       "<style scoped>\n",
       "    .dataframe tbody tr th:only-of-type {\n",
       "        vertical-align: middle;\n",
       "    }\n",
       "\n",
       "    .dataframe tbody tr th {\n",
       "        vertical-align: top;\n",
       "    }\n",
       "\n",
       "    .dataframe thead th {\n",
       "        text-align: right;\n",
       "    }\n",
       "</style>\n",
       "<table border=\"1\" class=\"dataframe\">\n",
       "  <thead>\n",
       "    <tr style=\"text-align: right;\">\n",
       "      <th></th>\n",
       "      <th>10歳未満</th>\n",
       "      <th>10代</th>\n",
       "      <th>20代</th>\n",
       "      <th>30代</th>\n",
       "      <th>40代</th>\n",
       "      <th>50代</th>\n",
       "      <th>60代</th>\n",
       "      <th>70代</th>\n",
       "      <th>80代</th>\n",
       "      <th>90代</th>\n",
       "      <th>100歳以上</th>\n",
       "      <th>不明</th>\n",
       "      <th>'-</th>\n",
       "    </tr>\n",
       "    <tr>\n",
       "      <th>公表_年月日</th>\n",
       "      <th></th>\n",
       "      <th></th>\n",
       "      <th></th>\n",
       "      <th></th>\n",
       "      <th></th>\n",
       "      <th></th>\n",
       "      <th></th>\n",
       "      <th></th>\n",
       "      <th></th>\n",
       "      <th></th>\n",
       "      <th></th>\n",
       "      <th></th>\n",
       "      <th></th>\n",
       "    </tr>\n",
       "  </thead>\n",
       "  <tbody>\n",
       "    <tr>\n",
       "      <th>2020-06-29</th>\n",
       "      <td>0.0</td>\n",
       "      <td>1.0</td>\n",
       "      <td>32.0</td>\n",
       "      <td>14.0</td>\n",
       "      <td>4.0</td>\n",
       "      <td>2.0</td>\n",
       "      <td>0.0</td>\n",
       "      <td>1.0</td>\n",
       "      <td>2.0</td>\n",
       "      <td>2.0</td>\n",
       "      <td>0.0</td>\n",
       "      <td>0.0</td>\n",
       "      <td>0.0</td>\n",
       "    </tr>\n",
       "    <tr>\n",
       "      <th>2020-06-30</th>\n",
       "      <td>2.0</td>\n",
       "      <td>5.0</td>\n",
       "      <td>16.0</td>\n",
       "      <td>10.0</td>\n",
       "      <td>8.0</td>\n",
       "      <td>7.0</td>\n",
       "      <td>2.0</td>\n",
       "      <td>3.0</td>\n",
       "      <td>1.0</td>\n",
       "      <td>0.0</td>\n",
       "      <td>0.0</td>\n",
       "      <td>0.0</td>\n",
       "      <td>0.0</td>\n",
       "    </tr>\n",
       "    <tr>\n",
       "      <th>2020-07-01</th>\n",
       "      <td>2.0</td>\n",
       "      <td>2.0</td>\n",
       "      <td>35.0</td>\n",
       "      <td>14.0</td>\n",
       "      <td>9.0</td>\n",
       "      <td>3.0</td>\n",
       "      <td>2.0</td>\n",
       "      <td>0.0</td>\n",
       "      <td>0.0</td>\n",
       "      <td>0.0</td>\n",
       "      <td>0.0</td>\n",
       "      <td>0.0</td>\n",
       "      <td>0.0</td>\n",
       "    </tr>\n",
       "    <tr>\n",
       "      <th>2020-07-02</th>\n",
       "      <td>3.0</td>\n",
       "      <td>2.0</td>\n",
       "      <td>37.0</td>\n",
       "      <td>34.0</td>\n",
       "      <td>11.0</td>\n",
       "      <td>10.0</td>\n",
       "      <td>2.0</td>\n",
       "      <td>3.0</td>\n",
       "      <td>2.0</td>\n",
       "      <td>3.0</td>\n",
       "      <td>0.0</td>\n",
       "      <td>0.0</td>\n",
       "      <td>0.0</td>\n",
       "    </tr>\n",
       "    <tr>\n",
       "      <th>2020-07-03</th>\n",
       "      <td>0.0</td>\n",
       "      <td>4.0</td>\n",
       "      <td>60.0</td>\n",
       "      <td>37.0</td>\n",
       "      <td>9.0</td>\n",
       "      <td>6.0</td>\n",
       "      <td>4.0</td>\n",
       "      <td>2.0</td>\n",
       "      <td>1.0</td>\n",
       "      <td>1.0</td>\n",
       "      <td>0.0</td>\n",
       "      <td>0.0</td>\n",
       "      <td>0.0</td>\n",
       "    </tr>\n",
       "  </tbody>\n",
       "</table>\n",
       "</div>"
      ],
      "text/plain": [
       "            10歳未満  10代   20代   30代   40代   50代  60代  70代  80代  90代  100歳以上  \\\n",
       "公表_年月日                                                                       \n",
       "2020-06-29    0.0  1.0  32.0  14.0   4.0   2.0  0.0  1.0  2.0  2.0     0.0   \n",
       "2020-06-30    2.0  5.0  16.0  10.0   8.0   7.0  2.0  3.0  1.0  0.0     0.0   \n",
       "2020-07-01    2.0  2.0  35.0  14.0   9.0   3.0  2.0  0.0  0.0  0.0     0.0   \n",
       "2020-07-02    3.0  2.0  37.0  34.0  11.0  10.0  2.0  3.0  2.0  3.0     0.0   \n",
       "2020-07-03    0.0  4.0  60.0  37.0   9.0   6.0  4.0  2.0  1.0  1.0     0.0   \n",
       "\n",
       "             不明   '-  \n",
       "公表_年月日                \n",
       "2020-06-29  0.0  0.0  \n",
       "2020-06-30  0.0  0.0  \n",
       "2020-07-01  0.0  0.0  \n",
       "2020-07-02  0.0  0.0  \n",
       "2020-07-03  0.0  0.0  "
      ]
     },
     "execution_count": 192,
     "metadata": {},
     "output_type": "execute_result"
    }
   ],
   "source": [
    "age_order = [\n",
    "    \"10歳未満\", \"10代\", \"20代\", \"30代\", \"40代\", \"50代\", \"60代\", \"70代\", \"80代\", \"90代\", \"100歳以上\", \"不明\", \"'-\"\n",
    "]\n",
    "\n",
    "pd.DataFrame(agg_count, columns = age_order).tail()\n"
   ]
  },
  {
   "cell_type": "markdown",
   "metadata": {},
   "source": [
    "# K値の推移をプロットする\n",
    "\n",
    "K値については  \n",
    "「K値を政策として用いることの問題点」参照：  \n",
    "https://note.com/kvalue/n/n64e553bb8c1b"
   ]
  },
  {
   "cell_type": "code",
   "execution_count": 193,
   "metadata": {},
   "outputs": [
    {
     "data": {
      "image/png": "[encoded data removed]",
      "text/plain": [
       "<Figure size 1152x432 with 1 Axes>"
      ]
     },
     "metadata": {
      "needs_background": "light"
     },
     "output_type": "display_data"
    },
    {
     "name": "stdout",
     "output_type": "stream",
     "text": [
      "             K_value\n",
      "2020-04-01  0.902381\n",
      "2020-04-02  0.832046\n",
      "2020-04-03  0.791803\n",
      "2020-04-04  0.737637\n",
      "2020-04-05  0.697353\n",
      "             K_value\n",
      "2020-06-29  0.060520\n",
      "2020-06-30  0.063781\n",
      "2020-07-01  0.065043\n",
      "2020-07-02  0.073402\n",
      "2020-07-03  0.082992\n"
     ]
    }
   ],
   "source": [
    "import datetime\n",
    "import matplotlib.dates as mdates\n",
    "\n",
    "def calc_k_value(df, date):\n",
    "    today = date\n",
    "    one_week_ago = today - datetime.timedelta(days=7)\n",
    "    \n",
    "    total_as_of_today = df.loc[today]\n",
    "    total_as_of_one_week_ago = df.loc[one_week_ago]\n",
    "    \n",
    "    return 1 - (total_as_of_one_week_ago/total_as_of_today)\n",
    "\n",
    "def plot_k_value(df, start_date):\n",
    "    last_date = df.index.max()\n",
    "    offset_date = start_date - datetime.timedelta(days=8)\n",
    "    offset = df.loc[offset_date][\"total_case\"]\n",
    "    offset_cases = (df[\"total_case\"] - offset)\n",
    "    \n",
    "    index = pd.date_range(start_date, last_date, freq='D')\n",
    "    k_values = [calc_k_value(offset_cases, i) for i in index]\n",
    "\n",
    "    df_k = pd.DataFrame({\"K_value\": k_values}, index=index)\n",
    " \n",
    "    fig = plt.figure(figsize=(16.0, 6.0))\n",
    "    ax = fig.add_subplot(111)\n",
    "    \n",
    "    days    = mdates.DayLocator(bymonthday=None, interval=14) \n",
    "    daysFmt = mdates.DateFormatter('%m/%d') \n",
    "    ax.xaxis.set_major_locator(days) \n",
    "    ax.xaxis.set_major_formatter(daysFmt) \n",
    "    fig.autofmt_xdate() \n",
    "    ax.grid()\n",
    "\n",
    "    plt.plot(df_k.index, df_k[\"K_value\"], marker='o', linestyle=\"None\")\n",
    "\n",
    "    plt.show()\n",
    "    print(df_k.head())\n",
    "    print(df_k.tail())\n",
    "\n",
    "plot_k_value(df_daily, datetime.date(2020, 4, 1))"
   ]
  },
  {
   "cell_type": "code",
   "execution_count": 194,
   "metadata": {},
   "outputs": [
    {
     "data": {
      "text/plain": [
       "array(['40代', '30代', '70代', '50代', '60代', '80代', '20代', '10歳未満', '90代',\n",
       "       '10代', '100歳以上', '不明', \"'-\"], dtype=object)"
      ]
     },
     "execution_count": 194,
     "metadata": {},
     "output_type": "execute_result"
    }
   ],
   "source": [
    "df[\"患者_年代\"].unique()"
   ]
  },
  {
   "cell_type": "code",
   "execution_count": null,
   "metadata": {},
   "outputs": [],
   "source": []
  },
  {
   "cell_type": "code",
   "execution_count": null,
   "metadata": {},
   "outputs": [],
   "source": []
  },
  {
   "cell_type": "code",
   "execution_count": null,
   "metadata": {},
   "outputs": [],
   "source": []
  }
 ],
 "metadata": {
  "kernelspec": {
   "display_name": "Python 3",
   "language": "python",
   "name": "python3"
  },
  "language_info": {
   "codemirror_mode": {
    "name": "ipython",
    "version": 3
   },
   "file_extension": ".py",
   "mimetype": "text/x-python",
   "name": "python",
   "nbconvert_exporter": "python",
   "pygments_lexer": "ipython3",
   "version": "3.7.7"
  }
 },
 "nbformat": 4,
 "nbformat_minor": 2
}
