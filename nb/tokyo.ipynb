{
 "cells": [
  {
   "cell_type": "markdown",
   "metadata": {},
   "source": [
    "# 東京の感染者数\n",
    "\n",
    "データは  \n",
    "https://stopcovid19.metro.tokyo.lg.jp/data/130001_tokyo_covid19_patients.csv  \n",
    "を使わせていただく。  \n",
    "まず、データフレームに格納。その際に「公表_年月日」のカラムを日付として解釈しておく。"
   ]
  },
  {
   "cell_type": "code",
   "execution_count": 143,
   "metadata": {},
   "outputs": [
    {
     "data": {
      "text/html": [
       "<div>\n",
       "<style scoped>\n",
       "    .dataframe tbody tr th:only-of-type {\n",
       "        vertical-align: middle;\n",
       "    }\n",
       "\n",
       "    .dataframe tbody tr th {\n",
       "        vertical-align: top;\n",
       "    }\n",
       "\n",
       "    .dataframe thead th {\n",
       "        text-align: right;\n",
       "    }\n",
       "</style>\n",
       "<table border=\"1\" class=\"dataframe\">\n",
       "  <thead>\n",
       "    <tr style=\"text-align: right;\">\n",
       "      <th></th>\n",
       "      <th>No</th>\n",
       "      <th>全国地方公共団体コード</th>\n",
       "      <th>都道府県名</th>\n",
       "      <th>市区町村名</th>\n",
       "      <th>公表_年月日</th>\n",
       "      <th>曜日</th>\n",
       "      <th>発症_年月日</th>\n",
       "      <th>患者_居住地</th>\n",
       "      <th>患者_年代</th>\n",
       "      <th>患者_性別</th>\n",
       "      <th>患者_属性</th>\n",
       "      <th>患者_状態</th>\n",
       "      <th>患者_症状</th>\n",
       "      <th>患者_渡航歴の有無フラグ</th>\n",
       "      <th>備考</th>\n",
       "      <th>退院済フラグ</th>\n",
       "    </tr>\n",
       "  </thead>\n",
       "  <tbody>\n",
       "    <tr>\n",
       "      <th>0</th>\n",
       "      <td>1</td>\n",
       "      <td>130001</td>\n",
       "      <td>東京都</td>\n",
       "      <td>NaN</td>\n",
       "      <td>2020-01-24</td>\n",
       "      <td>金</td>\n",
       "      <td>NaN</td>\n",
       "      <td>湖北省武漢市</td>\n",
       "      <td>40代</td>\n",
       "      <td>男性</td>\n",
       "      <td>NaN</td>\n",
       "      <td>NaN</td>\n",
       "      <td>NaN</td>\n",
       "      <td>NaN</td>\n",
       "      <td>NaN</td>\n",
       "      <td>1.0</td>\n",
       "    </tr>\n",
       "    <tr>\n",
       "      <th>1</th>\n",
       "      <td>2</td>\n",
       "      <td>130001</td>\n",
       "      <td>東京都</td>\n",
       "      <td>NaN</td>\n",
       "      <td>2020-01-25</td>\n",
       "      <td>土</td>\n",
       "      <td>NaN</td>\n",
       "      <td>湖北省武漢市</td>\n",
       "      <td>30代</td>\n",
       "      <td>女性</td>\n",
       "      <td>NaN</td>\n",
       "      <td>NaN</td>\n",
       "      <td>NaN</td>\n",
       "      <td>NaN</td>\n",
       "      <td>NaN</td>\n",
       "      <td>1.0</td>\n",
       "    </tr>\n",
       "    <tr>\n",
       "      <th>2</th>\n",
       "      <td>3</td>\n",
       "      <td>130001</td>\n",
       "      <td>東京都</td>\n",
       "      <td>NaN</td>\n",
       "      <td>2020-01-30</td>\n",
       "      <td>木</td>\n",
       "      <td>NaN</td>\n",
       "      <td>湖南省長沙市</td>\n",
       "      <td>30代</td>\n",
       "      <td>女性</td>\n",
       "      <td>NaN</td>\n",
       "      <td>NaN</td>\n",
       "      <td>NaN</td>\n",
       "      <td>NaN</td>\n",
       "      <td>NaN</td>\n",
       "      <td>1.0</td>\n",
       "    </tr>\n",
       "    <tr>\n",
       "      <th>3</th>\n",
       "      <td>4</td>\n",
       "      <td>130001</td>\n",
       "      <td>東京都</td>\n",
       "      <td>NaN</td>\n",
       "      <td>2020-02-13</td>\n",
       "      <td>木</td>\n",
       "      <td>NaN</td>\n",
       "      <td>都内</td>\n",
       "      <td>70代</td>\n",
       "      <td>男性</td>\n",
       "      <td>NaN</td>\n",
       "      <td>NaN</td>\n",
       "      <td>NaN</td>\n",
       "      <td>NaN</td>\n",
       "      <td>NaN</td>\n",
       "      <td>1.0</td>\n",
       "    </tr>\n",
       "    <tr>\n",
       "      <th>4</th>\n",
       "      <td>5</td>\n",
       "      <td>130001</td>\n",
       "      <td>東京都</td>\n",
       "      <td>NaN</td>\n",
       "      <td>2020-02-14</td>\n",
       "      <td>金</td>\n",
       "      <td>NaN</td>\n",
       "      <td>都内</td>\n",
       "      <td>50代</td>\n",
       "      <td>女性</td>\n",
       "      <td>NaN</td>\n",
       "      <td>NaN</td>\n",
       "      <td>NaN</td>\n",
       "      <td>NaN</td>\n",
       "      <td>NaN</td>\n",
       "      <td>1.0</td>\n",
       "    </tr>\n",
       "  </tbody>\n",
       "</table>\n",
       "</div>"
      ],
      "text/plain": [
       "   No  全国地方公共団体コード 都道府県名  市区町村名     公表_年月日 曜日  発症_年月日  患者_居住地 患者_年代 患者_性別  \\\n",
       "0   1       130001   東京都    NaN 2020-01-24  金     NaN  湖北省武漢市   40代    男性   \n",
       "1   2       130001   東京都    NaN 2020-01-25  土     NaN  湖北省武漢市   30代    女性   \n",
       "2   3       130001   東京都    NaN 2020-01-30  木     NaN  湖南省長沙市   30代    女性   \n",
       "3   4       130001   東京都    NaN 2020-02-13  木     NaN      都内   70代    男性   \n",
       "4   5       130001   東京都    NaN 2020-02-14  金     NaN      都内   50代    女性   \n",
       "\n",
       "   患者_属性  患者_状態  患者_症状  患者_渡航歴の有無フラグ  備考  退院済フラグ  \n",
       "0    NaN    NaN    NaN           NaN NaN     1.0  \n",
       "1    NaN    NaN    NaN           NaN NaN     1.0  \n",
       "2    NaN    NaN    NaN           NaN NaN     1.0  \n",
       "3    NaN    NaN    NaN           NaN NaN     1.0  \n",
       "4    NaN    NaN    NaN           NaN NaN     1.0  "
      ]
     },
     "execution_count": 143,
     "metadata": {},
     "output_type": "execute_result"
    }
   ],
   "source": [
    "%matplotlib inline\n",
    "import numpy as np\n",
    "import matplotlib.pyplot as plt\n",
    "import pandas as pd\n",
    "\n",
    "df = pd.read_csv('https://stopcovid19.metro.tokyo.lg.jp/data/130001_tokyo_covid19_patients.csv', \n",
    "                 parse_dates=['公表_年月日'])\n",
    "\n",
    "df.head()"
   ]
  },
  {
   "cell_type": "markdown",
   "metadata": {},
   "source": [
    "## 日付ごとの集計\n",
    "データフレームの日付の出現を数えて、日毎の感染者数とする。同時に累積の感染者数も計算しておく。"
   ]
  },
  {
   "cell_type": "code",
   "execution_count": 144,
   "metadata": {},
   "outputs": [],
   "source": [
    "date = []\n",
    "daily_case = []\n",
    "total_case = []\n",
    "current_accum_case = 0\n",
    "for k, v in df[\"公表_年月日\"].value_counts().sort_index().items():\n",
    "    date.append(k)\n",
    "    daily_case.append(v)\n",
    "    current_accum_case += v\n",
    "    total_case.append(current_accum_case)"
   ]
  },
  {
   "cell_type": "markdown",
   "metadata": {},
   "source": [
    "日毎の感染者数と累積の感染者数をカラムにもつデータフレームを作成。"
   ]
  },
  {
   "cell_type": "code",
   "execution_count": 145,
   "metadata": {},
   "outputs": [
    {
     "data": {
      "text/html": [
       "<div>\n",
       "<style scoped>\n",
       "    .dataframe tbody tr th:only-of-type {\n",
       "        vertical-align: middle;\n",
       "    }\n",
       "\n",
       "    .dataframe tbody tr th {\n",
       "        vertical-align: top;\n",
       "    }\n",
       "\n",
       "    .dataframe thead th {\n",
       "        text-align: right;\n",
       "    }\n",
       "</style>\n",
       "<table border=\"1\" class=\"dataframe\">\n",
       "  <thead>\n",
       "    <tr style=\"text-align: right;\">\n",
       "      <th></th>\n",
       "      <th>daily_case</th>\n",
       "      <th>total_case</th>\n",
       "    </tr>\n",
       "  </thead>\n",
       "  <tbody>\n",
       "    <tr>\n",
       "      <th>2020-01-24</th>\n",
       "      <td>1</td>\n",
       "      <td>1</td>\n",
       "    </tr>\n",
       "    <tr>\n",
       "      <th>2020-01-25</th>\n",
       "      <td>1</td>\n",
       "      <td>2</td>\n",
       "    </tr>\n",
       "    <tr>\n",
       "      <th>2020-01-30</th>\n",
       "      <td>1</td>\n",
       "      <td>3</td>\n",
       "    </tr>\n",
       "    <tr>\n",
       "      <th>2020-02-13</th>\n",
       "      <td>1</td>\n",
       "      <td>4</td>\n",
       "    </tr>\n",
       "    <tr>\n",
       "      <th>2020-02-14</th>\n",
       "      <td>2</td>\n",
       "      <td>6</td>\n",
       "    </tr>\n",
       "  </tbody>\n",
       "</table>\n",
       "</div>"
      ],
      "text/plain": [
       "            daily_case  total_case\n",
       "2020-01-24           1           1\n",
       "2020-01-25           1           2\n",
       "2020-01-30           1           3\n",
       "2020-02-13           1           4\n",
       "2020-02-14           2           6"
      ]
     },
     "execution_count": 145,
     "metadata": {},
     "output_type": "execute_result"
    }
   ],
   "source": [
    "df_daily = pd.DataFrame(\n",
    "    {\"daily_case\": daily_case,\n",
    "     \"total_case\": total_case},\n",
    "    index = date\n",
    ")\n",
    "df_daily.head()"
   ]
  },
  {
   "cell_type": "markdown",
   "metadata": {},
   "source": [
    "感染者が発見されていない日のデータが存在しないので、そのような日の行を含むデータフレームにしておく。"
   ]
  },
  {
   "cell_type": "code",
   "execution_count": 146,
   "metadata": {},
   "outputs": [
    {
     "data": {
      "text/html": [
       "<div>\n",
       "<style scoped>\n",
       "    .dataframe tbody tr th:only-of-type {\n",
       "        vertical-align: middle;\n",
       "    }\n",
       "\n",
       "    .dataframe tbody tr th {\n",
       "        vertical-align: top;\n",
       "    }\n",
       "\n",
       "    .dataframe thead th {\n",
       "        text-align: right;\n",
       "    }\n",
       "</style>\n",
       "<table border=\"1\" class=\"dataframe\">\n",
       "  <thead>\n",
       "    <tr style=\"text-align: right;\">\n",
       "      <th></th>\n",
       "      <th>daily_case</th>\n",
       "      <th>total_case</th>\n",
       "    </tr>\n",
       "  </thead>\n",
       "  <tbody>\n",
       "    <tr>\n",
       "      <th>2020-01-24</th>\n",
       "      <td>1.0</td>\n",
       "      <td>1.0</td>\n",
       "    </tr>\n",
       "    <tr>\n",
       "      <th>2020-01-25</th>\n",
       "      <td>1.0</td>\n",
       "      <td>2.0</td>\n",
       "    </tr>\n",
       "    <tr>\n",
       "      <th>2020-01-26</th>\n",
       "      <td>NaN</td>\n",
       "      <td>NaN</td>\n",
       "    </tr>\n",
       "    <tr>\n",
       "      <th>2020-01-27</th>\n",
       "      <td>NaN</td>\n",
       "      <td>NaN</td>\n",
       "    </tr>\n",
       "    <tr>\n",
       "      <th>2020-01-28</th>\n",
       "      <td>NaN</td>\n",
       "      <td>NaN</td>\n",
       "    </tr>\n",
       "  </tbody>\n",
       "</table>\n",
       "</div>"
      ],
      "text/plain": [
       "            daily_case  total_case\n",
       "2020-01-24         1.0         1.0\n",
       "2020-01-25         1.0         2.0\n",
       "2020-01-26         NaN         NaN\n",
       "2020-01-27         NaN         NaN\n",
       "2020-01-28         NaN         NaN"
      ]
     },
     "execution_count": 146,
     "metadata": {},
     "output_type": "execute_result"
    }
   ],
   "source": [
    "df_daily =df_daily.resample(\"1D\").asfreq()\n",
    "df_daily.head()"
   ]
  },
  {
   "cell_type": "markdown",
   "metadata": {},
   "source": [
    "追加された行のデータが存在しないので、NaNとなっている。新規感染者のNaNは0に、累積のNaNは一つ上の行と同じとしておく。"
   ]
  },
  {
   "cell_type": "code",
   "execution_count": 147,
   "metadata": {},
   "outputs": [
    {
     "data": {
      "text/html": [
       "<div>\n",
       "<style scoped>\n",
       "    .dataframe tbody tr th:only-of-type {\n",
       "        vertical-align: middle;\n",
       "    }\n",
       "\n",
       "    .dataframe tbody tr th {\n",
       "        vertical-align: top;\n",
       "    }\n",
       "\n",
       "    .dataframe thead th {\n",
       "        text-align: right;\n",
       "    }\n",
       "</style>\n",
       "<table border=\"1\" class=\"dataframe\">\n",
       "  <thead>\n",
       "    <tr style=\"text-align: right;\">\n",
       "      <th></th>\n",
       "      <th>daily_case</th>\n",
       "      <th>total_case</th>\n",
       "    </tr>\n",
       "  </thead>\n",
       "  <tbody>\n",
       "    <tr>\n",
       "      <th>2020-01-24</th>\n",
       "      <td>1.0</td>\n",
       "      <td>1.0</td>\n",
       "    </tr>\n",
       "    <tr>\n",
       "      <th>2020-01-25</th>\n",
       "      <td>1.0</td>\n",
       "      <td>2.0</td>\n",
       "    </tr>\n",
       "    <tr>\n",
       "      <th>2020-01-26</th>\n",
       "      <td>0.0</td>\n",
       "      <td>2.0</td>\n",
       "    </tr>\n",
       "    <tr>\n",
       "      <th>2020-01-27</th>\n",
       "      <td>0.0</td>\n",
       "      <td>2.0</td>\n",
       "    </tr>\n",
       "    <tr>\n",
       "      <th>2020-01-28</th>\n",
       "      <td>0.0</td>\n",
       "      <td>2.0</td>\n",
       "    </tr>\n",
       "  </tbody>\n",
       "</table>\n",
       "</div>"
      ],
      "text/plain": [
       "            daily_case  total_case\n",
       "2020-01-24         1.0         1.0\n",
       "2020-01-25         1.0         2.0\n",
       "2020-01-26         0.0         2.0\n",
       "2020-01-27         0.0         2.0\n",
       "2020-01-28         0.0         2.0"
      ]
     },
     "execution_count": 147,
     "metadata": {},
     "output_type": "execute_result"
    }
   ],
   "source": [
    "df_daily[\"daily_case\"].fillna(0, inplace=True)\n",
    "df_daily[\"total_case\"].ffill(inplace=True)\n",
    "df_daily.head()"
   ]
  },
  {
   "cell_type": "code",
   "execution_count": 148,
   "metadata": {},
   "outputs": [
    {
     "data": {
      "text/plain": [
       "金    1049\n",
       "土    1028\n",
       "木     861\n",
       "日     826\n",
       "火     800\n",
       "水     750\n",
       "月     581\n",
       "Name: 曜日, dtype: int64"
      ]
     },
     "execution_count": 148,
     "metadata": {},
     "output_type": "execute_result"
    }
   ],
   "source": [
    "df[\"曜日\"].value_counts()"
   ]
  },
  {
   "cell_type": "markdown",
   "metadata": {},
   "source": [
    "報告数は月火水は少なくなる傾向があるようなので、7日間の移動平均を格納しておく。\n",
    "\n"
   ]
  },
  {
   "cell_type": "code",
   "execution_count": 149,
   "metadata": {},
   "outputs": [
    {
     "data": {
      "text/html": [
       "<div>\n",
       "<style scoped>\n",
       "    .dataframe tbody tr th:only-of-type {\n",
       "        vertical-align: middle;\n",
       "    }\n",
       "\n",
       "    .dataframe tbody tr th {\n",
       "        vertical-align: top;\n",
       "    }\n",
       "\n",
       "    .dataframe thead th {\n",
       "        text-align: right;\n",
       "    }\n",
       "</style>\n",
       "<table border=\"1\" class=\"dataframe\">\n",
       "  <thead>\n",
       "    <tr style=\"text-align: right;\">\n",
       "      <th></th>\n",
       "      <th>daily_case</th>\n",
       "      <th>total_case</th>\n",
       "      <th>7day_MA</th>\n",
       "    </tr>\n",
       "  </thead>\n",
       "  <tbody>\n",
       "    <tr>\n",
       "      <th>2020-06-20</th>\n",
       "      <td>39.0</td>\n",
       "      <td>5745.0</td>\n",
       "      <td>36.142857</td>\n",
       "    </tr>\n",
       "    <tr>\n",
       "      <th>2020-06-21</th>\n",
       "      <td>35.0</td>\n",
       "      <td>5780.0</td>\n",
       "      <td>34.428571</td>\n",
       "    </tr>\n",
       "    <tr>\n",
       "      <th>2020-06-22</th>\n",
       "      <td>29.0</td>\n",
       "      <td>5809.0</td>\n",
       "      <td>31.714286</td>\n",
       "    </tr>\n",
       "    <tr>\n",
       "      <th>2020-06-23</th>\n",
       "      <td>31.0</td>\n",
       "      <td>5840.0</td>\n",
       "      <td>32.285714</td>\n",
       "    </tr>\n",
       "    <tr>\n",
       "      <th>2020-06-24</th>\n",
       "      <td>55.0</td>\n",
       "      <td>5895.0</td>\n",
       "      <td>37.857143</td>\n",
       "    </tr>\n",
       "  </tbody>\n",
       "</table>\n",
       "</div>"
      ],
      "text/plain": [
       "            daily_case  total_case    7day_MA\n",
       "2020-06-20        39.0      5745.0  36.142857\n",
       "2020-06-21        35.0      5780.0  34.428571\n",
       "2020-06-22        29.0      5809.0  31.714286\n",
       "2020-06-23        31.0      5840.0  32.285714\n",
       "2020-06-24        55.0      5895.0  37.857143"
      ]
     },
     "execution_count": 149,
     "metadata": {},
     "output_type": "execute_result"
    }
   ],
   "source": [
    "df_daily[\"7day_MA\"] = df_daily.rolling(7).mean()[\"daily_case\"]\n",
    "df_daily.tail()"
   ]
  },
  {
   "cell_type": "markdown",
   "metadata": {},
   "source": [
    "## 日毎の感染者数のプロット"
   ]
  },
  {
   "cell_type": "code",
   "execution_count": 150,
   "metadata": {
    "scrolled": true
   },
   "outputs": [
    {
     "data": {
      "image/png": "[encoded data removed]",
      "text/plain": [
       "<Figure size 1152x432 with 1 Axes>"
      ]
     },
     "metadata": {
      "needs_background": "light"
     },
     "output_type": "display_data"
    }
   ],
   "source": [
    "fig = plt.figure(figsize=(16.0, 6.0))\n",
    "ax = fig.add_subplot(111)\n",
    "ax.bar(df_daily.index, df_daily[\"daily_case\"], label=\"Daily cases\")\n",
    "ax.plot(df_daily.index, df_daily[\"7day_MA\"], color=\"red\", label=\"7 day MA\")\n",
    "ax.legend()\n",
    "ax.grid()\n",
    "\n",
    "plt.show()"
   ]
  },
  {
   "cell_type": "markdown",
   "metadata": {},
   "source": [
    "## 累積の感染者数のプロット"
   ]
  },
  {
   "cell_type": "code",
   "execution_count": 151,
   "metadata": {},
   "outputs": [
    {
     "data": {
      "image/png": "[encoded data removed]",
      "text/plain": [
       "<Figure size 1152x432 with 1 Axes>"
      ]
     },
     "metadata": {
      "needs_background": "light"
     },
     "output_type": "display_data"
    }
   ],
   "source": [
    "fig = plt.figure(figsize=(16.0, 6.0))\n",
    "ax = fig.add_subplot(111)\n",
    "plt.plot(df_daily.index, df_daily[\"total_case\"],marker='o')\n",
    "ax.grid()\n",
    "\n",
    "plt.show()"
   ]
  },
  {
   "cell_type": "markdown",
   "metadata": {},
   "source": [
    "## 累積の感染者数のプロット（対数軸）"
   ]
  },
  {
   "cell_type": "code",
   "execution_count": 152,
   "metadata": {},
   "outputs": [
    {
     "data": {
      "image/png": "[encoded data removed]",
      "text/plain": [
       "<Figure size 1152x432 with 1 Axes>"
      ]
     },
     "metadata": {
      "needs_background": "light"
     },
     "output_type": "display_data"
    }
   ],
   "source": [
    "fig = plt.figure(figsize=(16.0, 6.0))\n",
    "ax = fig.add_subplot(111)\n",
    "ax.set_yscale('log')\n",
    "plt.plot(df_daily.index, df_daily[\"total_case\"],marker='o')\n",
    "ax.grid()\n",
    "\n",
    "plt.show()"
   ]
  },
  {
   "cell_type": "markdown",
   "metadata": {},
   "source": [
    "# K値の推移をプロットする"
   ]
  },
  {
   "cell_type": "code",
   "execution_count": 153,
   "metadata": {},
   "outputs": [
    {
     "data": {
      "image/png": "[encoded data removed]",
      "text/plain": [
       "<Figure size 1152x432 with 1 Axes>"
      ]
     },
     "metadata": {
      "needs_background": "light"
     },
     "output_type": "display_data"
    },
    {
     "name": "stdout",
     "output_type": "stream",
     "text": [
      "             K_value\n",
      "2020-04-01  0.902381\n",
      "2020-04-02  0.832046\n",
      "2020-04-03  0.791803\n",
      "2020-04-04  0.737637\n",
      "2020-04-05  0.697353\n",
      "             K_value\n",
      "2020-06-20  0.045406\n",
      "2020-06-21  0.042982\n",
      "2020-06-22  0.039390\n",
      "2020-06-23  0.039880\n",
      "2020-06-24  0.046312\n"
     ]
    }
   ],
   "source": [
    "import datetime\n",
    "import matplotlib.dates as mdates\n",
    "\n",
    "def calc_k_value(df, date):\n",
    "    today = date\n",
    "    one_week_ago = today - datetime.timedelta(days=7)\n",
    "    \n",
    "    total_as_of_today = df.loc[today]\n",
    "    total_as_of_one_week_ago = df.loc[one_week_ago]\n",
    "    \n",
    "    return 1 - (total_as_of_one_week_ago/total_as_of_today)\n",
    "\n",
    "def plot_k_value(df, start_date):\n",
    "    last_date = df.index.max()\n",
    "    offset_date = start_date - datetime.timedelta(days=8)\n",
    "    offset = df.loc[offset_date][\"total_case\"]\n",
    "    offset_cases = (df[\"total_case\"] - offset)\n",
    "    \n",
    "    index = pd.date_range(start_date, last_date, freq='D')\n",
    "    k_values = [calc_k_value(offset_cases, i) for i in index]\n",
    "\n",
    "    df_k = pd.DataFrame({\"K_value\": k_values}, index=index)\n",
    " \n",
    "    fig = plt.figure(figsize=(16.0, 6.0))\n",
    "    ax = fig.add_subplot(111)\n",
    "    \n",
    "    days    = mdates.DayLocator(bymonthday=None, interval=14) \n",
    "    daysFmt = mdates.DateFormatter('%m/%d') \n",
    "    ax.xaxis.set_major_locator(days) \n",
    "    ax.xaxis.set_major_formatter(daysFmt) \n",
    "    fig.autofmt_xdate() \n",
    "    ax.grid()\n",
    "\n",
    "    plt.plot(df_k.index, df_k[\"K_value\"], marker='o', linestyle=\"None\")\n",
    "\n",
    "    plt.show()\n",
    "    print(df_k.head())\n",
    "    print(df_k.tail())\n",
    "\n",
    "plot_k_value(df_daily, datetime.date(2020, 4, 1))"
   ]
  },
  {
   "cell_type": "code",
   "execution_count": 154,
   "metadata": {},
   "outputs": [
    {
     "data": {
      "text/plain": [
       "['40代',\n",
       " '30代',\n",
       " '70代',\n",
       " '50代',\n",
       " '60代',\n",
       " '80代',\n",
       " '20代',\n",
       " '10歳未満',\n",
       " '90代',\n",
       " '10代',\n",
       " '100歳以上',\n",
       " '不明',\n",
       " \"'-\"]"
      ]
     },
     "execution_count": 154,
     "metadata": {},
     "output_type": "execute_result"
    }
   ],
   "source": [
    "#df[\"患者_年代\"].unique().tolist()\n",
    "#c = df.groupby([\"公表_年月日\",\"患者_年代\"]).count()\n",
    "#for d in df.groupby(\"公表_年月日\"):\n",
    "    "
   ]
  },
  {
   "cell_type": "code",
   "execution_count": null,
   "metadata": {},
   "outputs": [],
   "source": []
  }
 ],
 "metadata": {
  "kernelspec": {
   "display_name": "Python 3",
   "language": "python",
   "name": "python3"
  },
  "language_info": {
   "codemirror_mode": {
    "name": "ipython",
    "version": 3
   },
   "file_extension": ".py",
   "mimetype": "text/x-python",
   "name": "python",
   "nbconvert_exporter": "python",
   "pygments_lexer": "ipython3",
   "version": "3.7.7"
  }
 },
 "nbformat": 4,
 "nbformat_minor": 2
}
